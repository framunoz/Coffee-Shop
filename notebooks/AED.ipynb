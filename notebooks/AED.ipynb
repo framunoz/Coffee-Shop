{
 "cells": [
  {
   "cell_type": "code",
   "execution_count": null,
   "id": "0",
   "metadata": {},
   "outputs": [],
   "source": [
    "import pandas as pd\n",
    "import numpy as np\n",
    "import matplotlib.pyplot as plt\n",
    "\n",
    "from os import path"
   ]
  },
  {
   "cell_type": "code",
   "execution_count": null,
   "id": "1",
   "metadata": {},
   "outputs": [],
   "source": [
    "MAIN_PATH = path.join(\"..\")\n",
    "DATA_PATH = path.join(MAIN_PATH, \"data\")\n",
    "FILE_PATH = path.join(DATA_PATH, \"{}\").format\n",
    "FILE_PATH(\"HOLA\")"
   ]
  },
  {
   "cell_type": "code",
   "execution_count": null,
   "id": "2",
   "metadata": {},
   "outputs": [],
   "source": [
    "from os import listdir\n",
    "\n",
    "files_list = listdir(DATA_PATH)\n",
    "df = {name: pd.read_csv(FILE_PATH(name)) for name in files_list}\n",
    "SALES_RECIEPTS, CUSTOMER, DATES, GENERATIONS, PASTRY_INV, PRODUCT, SALES_TARGET, SALES_OUTLET, STAFF = files_list\n",
    "files_list"
   ]
  },
  {
   "cell_type": "markdown",
   "id": "3",
   "metadata": {},
   "source": [
    "## Sales Reciepts"
   ]
  },
  {
   "cell_type": "code",
   "execution_count": null,
   "id": "4",
   "metadata": {},
   "outputs": [],
   "source": [
    "df_sales_rec = df[SALES_RECIEPTS]\n",
    "df_sales_rec.head()"
   ]
  },
  {
   "cell_type": "code",
   "execution_count": null,
   "id": "5",
   "metadata": {},
   "outputs": [],
   "source": [
    "ordered_df_sales_rec = df_sales_rec.sort_values([\"transaction_date\", \"transaction_time\", \"sales_outlet_id\", \"staff_id\"])\n",
    "ordered_df_sales_rec.reset_index(drop=True, inplace=True)\n",
    "ordered_df_sales_rec.head(50)"
   ]
  },
  {
   "cell_type": "code",
   "execution_count": null,
   "id": "6",
   "metadata": {},
   "outputs": [],
   "source": [
    "gen = ordered_df_sales_rec.iterrows()\n",
    "\n",
    "last_i, last_row = next(gen)\n",
    "\n",
    "repeated_list = []\n",
    "\n",
    "c0 = \"transaction_id\"\n",
    "c1, c2, c3, c4 = \"transaction_date\", \"transaction_time\", \"sales_outlet_id\", \"staff_id\"\n",
    "\n",
    "at1_1, at2_1, at3_1, at4_1 = last_row[c1], last_row[c2], last_row[c3], last_row[c4]\n",
    "ordered_df_sales_rec.loc[0, c0] = 0\n",
    "\n",
    "j = 1\n",
    "for i, row in gen:\n",
    "    ordered_df_sales_rec.loc[i, c0] = ordered_df_sales_rec.loc[i-1, c0] + 1\n",
    "    last_row = ordered_df_sales_rec.loc[i-1]\n",
    "    at1_1, at2_1, at3_1, at4_1 = last_row[c1], last_row[c2], last_row[c3], last_row[c4]\n",
    "    at1_2, at2_2, at3_2, at4_2 = row[c1], row[c2], row[c3], row[c4]\n",
    "    if (at1_1 == at1_2 and at2_1 == at2_2 and at3_1 == at3_2 and at4_1 == at4_2):\n",
    "        ordered_df_sales_rec.loc[i, c0] = ordered_df_sales_rec.loc[i-1, c0]\n",
    "#         print(f\"{i-1=}, {last_row.transaction_id=}, {i=}, {row.transaction_id=}\")\n",
    "        repeated_list.append(last_row)\n",
    "        repeated_list.append(row)\n",
    "#     print(f\"{i=}\")\n",
    "# ordered_df_sales_rec.loc[:10]\n",
    "# repeated_list"
   ]
  },
  {
   "cell_type": "code",
   "execution_count": null,
   "id": "7",
   "metadata": {},
   "outputs": [],
   "source": [
    "ordered_df_sales_rec"
   ]
  },
  {
   "cell_type": "code",
   "execution_count": null,
   "id": "8",
   "metadata": {},
   "outputs": [],
   "source": [
    "ordered_df_sales_rec.loc[13263:].head(50)"
   ]
  },
  {
   "cell_type": "code",
   "execution_count": null,
   "id": "9",
   "metadata": {},
   "outputs": [],
   "source": [
    "[g for _, g in ordered_df_sales_rec.groupby(c0).groups.items() if len(g) == 7]\n",
    "# ordered_df_sales_rec.groupby(c0).groups.items()"
   ]
  },
  {
   "cell_type": "code",
   "execution_count": null,
   "id": "10",
   "metadata": {},
   "outputs": [],
   "source": [
    "df_sales_rec[df_sales_rec.transaction_id == 1].sort_values([\"transaction_date\", \"transaction_time\", \"staff_id\"])"
   ]
  },
  {
   "cell_type": "code",
   "execution_count": null,
   "id": "11",
   "metadata": {},
   "outputs": [],
   "source": []
  },
  {
   "cell_type": "code",
   "execution_count": null,
   "id": "12",
   "metadata": {},
   "outputs": [],
   "source": []
  },
  {
   "cell_type": "code",
   "execution_count": null,
   "id": "13",
   "metadata": {},
   "outputs": [],
   "source": []
  },
  {
   "cell_type": "code",
   "execution_count": null,
   "id": "14",
   "metadata": {},
   "outputs": [],
   "source": []
  },
  {
   "cell_type": "code",
   "execution_count": null,
   "id": "15",
   "metadata": {},
   "outputs": [],
   "source": []
  },
  {
   "cell_type": "code",
   "execution_count": null,
   "id": "16",
   "metadata": {},
   "outputs": [],
   "source": []
  },
  {
   "cell_type": "code",
   "execution_count": null,
   "id": "17",
   "metadata": {},
   "outputs": [],
   "source": [
    "indx = df_sales_rec.instore_yn[df_sales_rec.instore_yn==' ']#.unique()\n",
    "df_sales_rec[df_sales_rec.instore_yn==' ']"
   ]
  },
  {
   "cell_type": "code",
   "execution_count": null,
   "id": "18",
   "metadata": {},
   "outputs": [],
   "source": [
    "df_sales_rec.describe()"
   ]
  },
  {
   "cell_type": "code",
   "execution_count": null,
   "id": "19",
   "metadata": {},
   "outputs": [],
   "source": [
    "df[CUSTOMER]"
   ]
  },
  {
   "cell_type": "code",
   "execution_count": null,
   "id": "20",
   "metadata": {},
   "outputs": [],
   "source": [
    "df[CUSTOMER].describe()"
   ]
  },
  {
   "cell_type": "code",
   "execution_count": null,
   "id": "21",
   "metadata": {},
   "outputs": [],
   "source": [
    "df[PRODUCT]"
   ]
  },
  {
   "cell_type": "code",
   "execution_count": null,
   "id": "22",
   "metadata": {},
   "outputs": [],
   "source": [
    "df[DATES]"
   ]
  },
  {
   "cell_type": "markdown",
   "id": "23",
   "metadata": {},
   "source": [
    "## Productos"
   ]
  },
  {
   "cell_type": "code",
   "execution_count": null,
   "id": "24",
   "metadata": {},
   "outputs": [],
   "source": [
    "df_prod = df[PRODUCT]\n",
    "df_prod"
   ]
  },
  {
   "cell_type": "code",
   "execution_count": null,
   "id": "25",
   "metadata": {},
   "outputs": [],
   "source": [
    "# max([len(pr) for pr in df_prod[\"product_description\"]])\n",
    "# df_prod[\"product\"]\n",
    "df_prod[df_prod.promo_yn == \"Y\"]"
   ]
  },
  {
   "cell_type": "code",
   "execution_count": null,
   "id": "26",
   "metadata": {},
   "outputs": [],
   "source": []
  }
 ],
 "metadata": {
  "kernelspec": {
   "display_name": "Python 3 (ipykernel)",
   "language": "python",
   "name": "python3"
  },
  "language_info": {
   "codemirror_mode": {
    "name": "ipython",
    "version": 3
   },
   "file_extension": ".py",
   "mimetype": "text/x-python",
   "name": "python",
   "nbconvert_exporter": "python",
   "pygments_lexer": "ipython3",
   "version": "3.9.7"
  }
 },
 "nbformat": 4,
 "nbformat_minor": 5
}
