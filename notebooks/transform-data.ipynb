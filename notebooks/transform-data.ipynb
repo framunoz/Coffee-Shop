{
 "cells": [
  {
   "cell_type": "code",
   "execution_count": null,
   "id": "0",
   "metadata": {},
   "outputs": [],
   "source": [
    "import pandas as pd\n",
    "import numpy as np\n",
    "import matplotlib.pyplot as plt\n",
    "from functools import partial\n",
    "\n",
    "from os import path"
   ]
  },
  {
   "cell_type": "code",
   "execution_count": null,
   "id": "1",
   "metadata": {},
   "outputs": [],
   "source": [
    "MAIN_PATH = path.join(\"..\")\n",
    "DATA_PATH = path.join(MAIN_PATH, \"data\")\n",
    "FILE_PATH = path.join(MAIN_PATH, \"{data_path}\", \"{0}\").format\n",
    "FILE_PATH = partial(FILE_PATH, data_path=\"data\")\n",
    "FILE_PATH(\"HOLA\", data_path=\"cleaned_data\"), FILE_PATH(\"HOLA\")"
   ]
  },
  {
   "cell_type": "code",
   "execution_count": null,
   "id": "2",
   "metadata": {},
   "outputs": [],
   "source": [
    "from os import listdir\n",
    "\n",
    "files_list = listdir(DATA_PATH)\n",
    "df = {name: pd.read_csv(FILE_PATH(name)) for name in files_list}\n",
    "SALES_RECIEPTS, CUSTOMER, DATES, GENERATIONS, PASTRY_INV, PRODUCT, SALES_TARGET, SALES_OUTLET, STAFF = files_list\n",
    "files_list"
   ]
  },
  {
   "cell_type": "markdown",
   "id": "3",
   "metadata": {},
   "source": [
    "# Sales Reciepts"
   ]
  },
  {
   "cell_type": "code",
   "execution_count": null,
   "id": "4",
   "metadata": {},
   "outputs": [],
   "source": [
    "df_sales_rec = df[SALES_RECIEPTS]\n",
    "df_sales_rec.head()"
   ]
  },
  {
   "cell_type": "code",
   "execution_count": null,
   "id": "5",
   "metadata": {},
   "outputs": [],
   "source": [
    "ordered_df_sales_rec = df_sales_rec.sort_values([\"transaction_date\", \"transaction_time\", \"sales_outlet_id\", \"staff_id\"])\n",
    "ordered_df_sales_rec.reset_index(drop=True, inplace=True)\n",
    "ordered_df_sales_rec.head(50)"
   ]
  },
  {
   "cell_type": "code",
   "execution_count": null,
   "id": "6",
   "metadata": {},
   "outputs": [],
   "source": [
    "gen = ordered_df_sales_rec.iterrows()\n",
    "\n",
    "last_i, last_row = next(gen)\n",
    "\n",
    "repeated_list = []\n",
    "\n",
    "c0 = \"transaction_id\"\n",
    "c1, c2, c3, c4 = \"transaction_date\", \"transaction_time\", \"sales_outlet_id\", \"staff_id\"\n",
    "\n",
    "at1_1, at2_1, at3_1, at4_1 = last_row[c1], last_row[c2], last_row[c3], last_row[c4]\n",
    "ordered_df_sales_rec.loc[0, c0] = 0\n",
    "\n",
    "for i, row in gen:\n",
    "    ordered_df_sales_rec.loc[i, c0] = ordered_df_sales_rec.loc[i-1, c0] + 1\n",
    "    last_row = ordered_df_sales_rec.loc[i-1]\n",
    "    at1_1, at2_1, at3_1, at4_1 = last_row[c1], last_row[c2], last_row[c3], last_row[c4]\n",
    "    at1_2, at2_2, at3_2, at4_2 = row[c1], row[c2], row[c3], row[c4]\n",
    "    if (at1_1 == at1_2 and at2_1 == at2_2 and at3_1 == at3_2 and at4_1 == at4_2):\n",
    "        ordered_df_sales_rec.loc[i, c0] = ordered_df_sales_rec.loc[i-1, c0]\n",
    "        repeated_list.append(last_row)\n",
    "        repeated_list.append(row)"
   ]
  },
  {
   "cell_type": "code",
   "execution_count": null,
   "id": "7",
   "metadata": {},
   "outputs": [],
   "source": [
    "ordered_df_sales_rec[\"transaction_date\"] = pd.to_datetime(ordered_df_sales_rec[\"transaction_date\"], yearfirst=True)\n",
    "ordered_df_sales_rec.head()"
   ]
  },
  {
   "cell_type": "code",
   "execution_count": null,
   "id": "8",
   "metadata": {},
   "outputs": [],
   "source": [
    "ordered_df_sales_rec.transaction_date"
   ]
  },
  {
   "cell_type": "code",
   "execution_count": null,
   "id": "9",
   "metadata": {},
   "outputs": [],
   "source": [
    "columns = [\n",
    "    \"transaction_id\",\n",
    "    \"product_id\",\n",
    "    \"staff_id\",\n",
    "    \"customer_id\",\n",
    "    \"sales_outlet_id\",\n",
    "    \"transaction_date\",\n",
    "    \"transaction_time\",\n",
    "    \"quantity\"\n",
    "]\n",
    "df_to_save = ordered_df_sales_rec[columns]\n",
    "df_to_save.drop_duplicates(inplace=True)\n",
    "print(len(df_to_save))\n",
    "df_to_save.loc[11658, \"quantity\"] = 3\n",
    "df_to_save = df_to_save.drop([11660])\n",
    "df_to_save.head()"
   ]
  },
  {
   "cell_type": "code",
   "execution_count": null,
   "id": "10",
   "metadata": {},
   "outputs": [],
   "source": [
    "df_to_save[df_to_save[\"transaction_id\"] == 11]"
   ]
  },
  {
   "cell_type": "code",
   "execution_count": null,
   "id": "11",
   "metadata": {},
   "outputs": [],
   "source": [
    "df_to_save.to_csv(\n",
    "    FILE_PATH(\"SalesReceipt.csv\", data_path=\"cleaned_data\"),\n",
    "    index=False,\n",
    ")"
   ]
  },
  {
   "cell_type": "markdown",
   "id": "12",
   "metadata": {},
   "source": [
    "# Dates"
   ]
  },
  {
   "cell_type": "code",
   "execution_count": null,
   "id": "13",
   "metadata": {},
   "outputs": [],
   "source": [
    "df_dates = df[DATES]\n",
    "df_dates[\"transaction_date\"] = pd.to_datetime(df_dates[\"transaction_date\"], yearfirst=True)\n",
    "df_dates.head()"
   ]
  },
  {
   "cell_type": "code",
   "execution_count": null,
   "id": "14",
   "metadata": {},
   "outputs": [],
   "source": [
    "columns = [\n",
    "    \"transaction_date\",\n",
    "    \"Month_ID\",\n",
    "    \"Week_ID\",\n",
    "    \"Quarter_ID\",\n",
    "]\n",
    "df_to_save = df_dates[columns]\n",
    "df_to_save.head()"
   ]
  },
  {
   "cell_type": "code",
   "execution_count": null,
   "id": "15",
   "metadata": {},
   "outputs": [],
   "source": [
    "df_to_save.to_csv(\n",
    "    FILE_PATH(\"TransactionDate.csv\", data_path=\"cleaned_data\"),\n",
    "    index=False,\n",
    "    header=[\n",
    "        \"transaction_date\",\n",
    "        \"month_id\",\n",
    "        \"week_id\",\n",
    "        \"quarter_id\",\n",
    "    ]\n",
    ")"
   ]
  },
  {
   "cell_type": "markdown",
   "id": "16",
   "metadata": {},
   "source": [
    "# MonthName"
   ]
  },
  {
   "cell_type": "code",
   "execution_count": null,
   "id": "17",
   "metadata": {},
   "outputs": [],
   "source": [
    "list_to_df = [\n",
    "    [ 1, \"January\"],\n",
    "    [ 2, \"February\"],\n",
    "    [ 3, \"March\"],\n",
    "    [ 4, \"April\"],\n",
    "    [ 5, \"May\"],\n",
    "    [ 6, \"June\"],\n",
    "    [ 7, \"July\"],\n",
    "    [ 8, \"August\"],\n",
    "    [ 9, \"September\"],\n",
    "    [10, \"Octuber\"],\n",
    "    [11, \"November\"],\n",
    "    [12, \"December\"],\n",
    "]\n",
    "df_month_name = pd.DataFrame(list_to_df,\n",
    "                             columns=[\"month_id\", \"month_name\"])\n",
    "df_month_name"
   ]
  },
  {
   "cell_type": "code",
   "execution_count": null,
   "id": "18",
   "metadata": {},
   "outputs": [],
   "source": [
    "df_month_name.to_csv(\n",
    "    FILE_PATH(\"MonthName.csv\", data_path=\"cleaned_data\"),\n",
    "    index=False,\n",
    ")"
   ]
  },
  {
   "cell_type": "markdown",
   "id": "19",
   "metadata": {},
   "source": [
    "# Customer"
   ]
  },
  {
   "cell_type": "code",
   "execution_count": null,
   "id": "20",
   "metadata": {},
   "outputs": [],
   "source": [
    "df_customer = df[CUSTOMER]\n",
    "df_customer[\"customer_since\"] = pd.to_datetime(df_customer[\"customer_since\"], yearfirst=True)\n",
    "df_customer[\"birthdate\"] = pd.to_datetime(df_customer[\"birthdate\"], yearfirst=True)\n",
    "df_customer.head()"
   ]
  },
  {
   "cell_type": "code",
   "execution_count": null,
   "id": "21",
   "metadata": {},
   "outputs": [],
   "source": [
    "columns = [\n",
    "    \"customer_id\",\n",
    "    \"home_store\",\n",
    "    \"customer_first-name\",  # customer_name\n",
    "    \"customer_email\",\n",
    "    \"customer_since\",\n",
    "    \"loyalty_card_number\",\n",
    "    \"birthdate\",\n",
    "    \"birth_year\",\n",
    "    \"gender\",  # is_female\n",
    "]\n",
    "df_to_save = df_customer[columns]\n",
    "df_to_save"
   ]
  },
  {
   "cell_type": "code",
   "execution_count": null,
   "id": "22",
   "metadata": {},
   "outputs": [],
   "source": [
    "df_to_save[\"gender\"] = df_to_save.loc[:, \"gender\"].replace(\"F\", 1).replace(\"M\", 0).replace(\"N\", np.nan).astype(\"Int8\")\n",
    "df_to_save"
   ]
  },
  {
   "cell_type": "code",
   "execution_count": null,
   "id": "23",
   "metadata": {},
   "outputs": [],
   "source": [
    "df_to_save.to_csv(\n",
    "    FILE_PATH(\"Customer.csv\", data_path=\"cleaned_data\"),\n",
    "    index=False,\n",
    "    header=[\n",
    "        \"customer_id\",\n",
    "        \"home_store\",\n",
    "        \"customer_name\",  # customer_name\n",
    "        \"customer_email\",\n",
    "        \"customer_since\",\n",
    "        \"loyalty_card_number\",\n",
    "        \"birthdate\",\n",
    "        \"birth_year\",\n",
    "        \"is_female\",  # is_female\n",
    "    ]\n",
    ")"
   ]
  },
  {
   "cell_type": "markdown",
   "id": "24",
   "metadata": {},
   "source": [
    "# Generation"
   ]
  },
  {
   "cell_type": "code",
   "execution_count": null,
   "id": "25",
   "metadata": {},
   "outputs": [],
   "source": [
    "df_generations = df[GENERATIONS]\n",
    "df_generations"
   ]
  },
  {
   "cell_type": "code",
   "execution_count": null,
   "id": "26",
   "metadata": {},
   "outputs": [],
   "source": [
    "df_generations.to_csv(\n",
    "    FILE_PATH(\"Generation.csv\", data_path=\"cleaned_data\"),\n",
    "    index=False,\n",
    ")"
   ]
  },
  {
   "cell_type": "markdown",
   "id": "27",
   "metadata": {},
   "source": [
    "# PastryInventory"
   ]
  },
  {
   "cell_type": "code",
   "execution_count": null,
   "id": "28",
   "metadata": {},
   "outputs": [],
   "source": [
    "df_pastry_inventory = df[PASTRY_INV]\n",
    "df_pastry_inventory[\"transaction_date\"] = pd.to_datetime(df_pastry_inventory[\"transaction_date\"], yearfirst=True)\n",
    "df_pastry_inventory.head()"
   ]
  },
  {
   "cell_type": "code",
   "execution_count": null,
   "id": "29",
   "metadata": {},
   "outputs": [],
   "source": [
    "columns = [\n",
    "    \"sales_outlet_id\",\n",
    "    \"transaction_date\",\n",
    "    \"product_id\",\n",
    "    \"start_of_day\",  # quantity_cooked\n",
    "    \"quantity_sold\",\n",
    "]\n",
    "df_to_save = df_pastry_inventory[columns]\n",
    "df_to_save"
   ]
  },
  {
   "cell_type": "code",
   "execution_count": null,
   "id": "30",
   "metadata": {},
   "outputs": [],
   "source": [
    "df_to_save.to_csv(\n",
    "    FILE_PATH(\"PastryInventory.csv\", data_path=\"cleaned_data\"),\n",
    "    index=False,\n",
    "    header=[\n",
    "        \"sales_outlet_id\",\n",
    "        \"transaction_date\",\n",
    "        \"product_id\",\n",
    "        \"quantity_cooked\",  # quantity_cooked\n",
    "        \"quantity_sold\",\n",
    "    ]\n",
    ")"
   ]
  },
  {
   "cell_type": "markdown",
   "id": "31",
   "metadata": {},
   "source": [
    "# Product"
   ]
  },
  {
   "cell_type": "code",
   "execution_count": null,
   "id": "32",
   "metadata": {},
   "outputs": [],
   "source": [
    "df_product = df[PRODUCT]\n",
    "df_product.head()"
   ]
  },
  {
   "cell_type": "code",
   "execution_count": null,
   "id": "33",
   "metadata": {},
   "outputs": [],
   "source": [
    "df_product[\"product_group\"].unique()"
   ]
  },
  {
   "cell_type": "code",
   "execution_count": null,
   "id": "34",
   "metadata": {},
   "outputs": [],
   "source": [
    "df_product[\"product_category\"].unique()"
   ]
  },
  {
   "cell_type": "code",
   "execution_count": null,
   "id": "35",
   "metadata": {},
   "outputs": [],
   "source": [
    "df_product[\"product_type\"].unique()"
   ]
  },
  {
   "cell_type": "code",
   "execution_count": null,
   "id": "36",
   "metadata": {},
   "outputs": [],
   "source": [
    "df_product[\"current_retail_price\"]"
   ]
  },
  {
   "cell_type": "code",
   "execution_count": null,
   "id": "37",
   "metadata": {},
   "outputs": [],
   "source": [
    "columns = [\n",
    "    \"product_id\",\n",
    "    \"product\",\n",
    "    \"current_retail_price\",\n",
    "    \"product_group\",\n",
    "    \"product_category\",\n",
    "    \"product_type\",\n",
    "]\n",
    "df_to_save = df_product[columns]\n",
    "df_to_save"
   ]
  },
  {
   "cell_type": "code",
   "execution_count": null,
   "id": "38",
   "metadata": {},
   "outputs": [],
   "source": [
    "df_to_save.to_csv(\n",
    "    FILE_PATH(\"Product.csv\", data_path=\"cleaned_data\"),\n",
    "    index=False,\n",
    ")"
   ]
  },
  {
   "cell_type": "markdown",
   "id": "39",
   "metadata": {},
   "source": [
    "# SalesTarget"
   ]
  },
  {
   "cell_type": "code",
   "execution_count": null,
   "id": "40",
   "metadata": {},
   "outputs": [],
   "source": [
    "df_sales_target = df[SALES_TARGET]\n",
    "df_sales_target.head()"
   ]
  },
  {
   "cell_type": "code",
   "execution_count": null,
   "id": "41",
   "metadata": {},
   "outputs": [],
   "source": [
    "columns = [\n",
    "    \"sales_outlet_id\",\n",
    "    \"year_month\",\n",
    "    \"beans_goal\",\n",
    "    \"beverage_goal\",\n",
    "    \"food_goal\",\n",
    "    \"merchandise _goal\",  # merchandise_goal\n",
    "]\n",
    "df_to_save = df_sales_target[columns]"
   ]
  },
  {
   "cell_type": "code",
   "execution_count": null,
   "id": "42",
   "metadata": {},
   "outputs": [],
   "source": [
    "df_to_save.to_csv(\n",
    "    FILE_PATH(\"SalesTarget.csv\", data_path=\"cleaned_data\"),\n",
    "    index=False,\n",
    "    header=[\n",
    "        \"sales_outlet_id\",\n",
    "        \"year_month\",\n",
    "        \"beans_goal\",\n",
    "        \"beverage_goal\",\n",
    "        \"food_goal\",\n",
    "        \"merchandise_goal\",  # merchandise_goal\n",
    "    ]\n",
    ")"
   ]
  },
  {
   "cell_type": "markdown",
   "id": "43",
   "metadata": {},
   "source": [
    "# SalesOutlet"
   ]
  },
  {
   "cell_type": "code",
   "execution_count": null,
   "id": "44",
   "metadata": {},
   "outputs": [],
   "source": [
    "df_sales_outlet = df[SALES_OUTLET]\n",
    "df_sales_outlet.head()"
   ]
  },
  {
   "cell_type": "code",
   "execution_count": null,
   "id": "45",
   "metadata": {},
   "outputs": [],
   "source": [
    "df_sales_outlet[\"manager\"] = df_sales_outlet[\"manager\"].astype(\"Int8\")\n",
    "df_sales_outlet.head()"
   ]
  },
  {
   "cell_type": "code",
   "execution_count": null,
   "id": "46",
   "metadata": {},
   "outputs": [],
   "source": [
    "# HQ\n",
    "col_names = list(df_sales_outlet.columns)\n",
    "col_values = [0, \"headquarter\", pd.NA, pd.NA, pd.NA, pd.NA, pd.NA, pd.NA, pd.NA, pd.NA, pd.NA, pd.NA]\n",
    "df_sales_outlet = df_sales_outlet.append({name: val for name, val in zip(col_names, col_values)}, ignore_index=True)\n",
    "col_values = [1, \"FL\", pd.NA, pd.NA, pd.NA, pd.NA, pd.NA, pd.NA, pd.NA, pd.NA, pd.NA, pd.NA]\n",
    "df_sales_outlet = df_sales_outlet.append({name: val for name, val in zip(col_names, col_values)}, ignore_index=True)"
   ]
  },
  {
   "cell_type": "code",
   "execution_count": null,
   "id": "47",
   "metadata": {},
   "outputs": [],
   "source": [
    "df_sales_outlet.head()"
   ]
  },
  {
   "cell_type": "code",
   "execution_count": null,
   "id": "48",
   "metadata": {},
   "outputs": [],
   "source": [
    "df_sales_outlet[\"store_square_feet\"] = df_sales_outlet[\"store_square_feet\"].astype(\"Int64\")\n",
    "df_sales_outlet[\"store_postal_code\"] = df_sales_outlet[\"store_postal_code\"].astype(\"Int64\")"
   ]
  },
  {
   "cell_type": "code",
   "execution_count": null,
   "id": "49",
   "metadata": {},
   "outputs": [],
   "source": [
    "df_sales_outlet.sort_values(\"sales_outlet_id\", ignore_index=True, inplace=True)"
   ]
  },
  {
   "cell_type": "code",
   "execution_count": null,
   "id": "50",
   "metadata": {},
   "outputs": [],
   "source": [
    "columns = [\n",
    "    \"sales_outlet_id\",\n",
    "    \"manager\",\n",
    "    \"sales_outlet_type\",\n",
    "    \"store_address\",\n",
    "    \"store_city\",\n",
    "    \"store_state_province\",\n",
    "    \"Neighorhood\",  # \"store_neighborhood\"\n",
    "    \"store_telephone\",\n",
    "    \"store_postal_code\",\n",
    "]\n",
    "df_to_save = df_sales_outlet[columns]\n",
    "df_to_save.head()"
   ]
  },
  {
   "cell_type": "code",
   "execution_count": null,
   "id": "51",
   "metadata": {},
   "outputs": [],
   "source": [
    "df_to_save.to_csv(\n",
    "    FILE_PATH(\"SalesOutlet.csv\", data_path=\"cleaned_data\"),\n",
    "    index=False,\n",
    "    header=[\n",
    "        \"sales_outlet_id\",\n",
    "        \"manager\",\n",
    "        \"sales_outlet_type\",\n",
    "        \"store_address\",\n",
    "        \"store_city\",\n",
    "        \"store_state_province\",\n",
    "        \"store_neighborhood\",  # \"store_neighborhood\"\n",
    "        \"store_telephone\",\n",
    "        \"store_postal_code\",\n",
    "    ]\n",
    ")"
   ]
  },
  {
   "cell_type": "markdown",
   "id": "52",
   "metadata": {},
   "source": [
    "# Staff"
   ]
  },
  {
   "cell_type": "code",
   "execution_count": null,
   "id": "53",
   "metadata": {},
   "outputs": [],
   "source": [
    "df_staff = df[STAFF]\n",
    "df_staff[\"start_date\"] = pd.to_datetime(df_staff[\"start_date\"])\n",
    "df_staff[\"location\"] = df_staff[\"location\"].replace(\"HQ\", 0).replace(\"WH\", 2).replace(\"FL\", 1).apply(lambda x: int(x))\n",
    "df_staff.head()"
   ]
  },
  {
   "cell_type": "code",
   "execution_count": null,
   "id": "54",
   "metadata": {},
   "outputs": [],
   "source": [
    "columns = [\n",
    "    \"staff_id\",\n",
    "    \"position\",\n",
    "    \"location\",\n",
    "    \"first_name\",\n",
    "    \"last_name\",\n",
    "    \"start_date\",\n",
    "]\n",
    "df_to_save = df_staff[columns]\n",
    "df_to_save.head()"
   ]
  },
  {
   "cell_type": "code",
   "execution_count": null,
   "id": "55",
   "metadata": {},
   "outputs": [],
   "source": [
    "df_to_save.to_csv(\n",
    "    FILE_PATH(\"Staff.csv\", data_path=\"cleaned_data\"),\n",
    "    index=False,\n",
    "#     header=[\n",
    "#         \"sales_outlet_id\",\n",
    "#         \"year_month\",\n",
    "#         \"beans_goal\",\n",
    "#         \"beverage_goal\",\n",
    "#         \"food_goal\",\n",
    "#         \"merchandise_goal\",  # merchandise_goal\n",
    "#     ]\n",
    ")"
   ]
  }
 ],
 "metadata": {
  "kernelspec": {
   "display_name": "Python 3 (ipykernel)",
   "language": "python",
   "name": "python3"
  },
  "language_info": {
   "codemirror_mode": {
    "name": "ipython",
    "version": 3
   },
   "file_extension": ".py",
   "mimetype": "text/x-python",
   "name": "python",
   "nbconvert_exporter": "python",
   "pygments_lexer": "ipython3",
   "version": "3.9.7"
  }
 },
 "nbformat": 4,
 "nbformat_minor": 5
}
